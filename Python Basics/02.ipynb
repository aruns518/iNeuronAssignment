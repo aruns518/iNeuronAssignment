{
 "cells": [
  {
   "cell_type": "markdown",
   "id": "f243657e-7b25-4f04-afa1-bbbe5111766d",
   "metadata": {},
   "source": [
    "1.What are the two values of the Boolean data type? How do you write them?\n",
    "Ans: True and False are two values of the boolen data type\n"
   ]
  },
  {
   "cell_type": "markdown",
   "id": "4a46487c-e24e-4ed8-9e51-c070c5a75ef4",
   "metadata": {},
   "source": [
    "2. What are the three different types of Boolean operators?\n",
    "Ans:The three differnt types of Boolean operators in python are: or, and, not\n"
   ]
  },
  {
   "cell_type": "markdown",
   "id": "ce628967-8d5d-4883-9e72-f0570b253fa5",
   "metadata": {},
   "source": [
    "3. Make a list of each Boolean operator's truth tables (i.e. every possible combination of Boolean values for the operator and what it evaluate ).\n",
    "Ans: The Truth tables for the boolean tables are as follows:\n",
    "•\tTruth Table for and operaotor\n",
    "True and True is True\n",
    "True and False is False\n",
    "False and True is False\n",
    "False and False is False\n",
    "•\tTruth Table for or operaotor\n",
    "True and True is True\n",
    "True and False is True\n",
    "False and True is True\n",
    "False and False is False\n",
    "•\tTruth Table for not operaotor\n",
    "True not is False False not is True\n"
   ]
  },
  {
   "cell_type": "markdown",
   "id": "506603bf-ee94-449d-9ca1-318fbcd110ae",
   "metadata": {},
   "source": [
    "4. What are the values of the following expressions?\n",
    "(5 > 4) and (3 == 5)\n",
    "not (5 > 4)\n",
    "(5 > 4) or (3 == 5)\n",
    "not ((5 > 4) or (3 == 5))\n",
    "(True and True) and (True == False)\n",
    "(not False) or (not True)\n",
    "\n",
    "Ans:  print((5>4)and(3==5)) # False\n",
    "print(not(5>4)) # False\n",
    "print((5>4)or(3==5)) # True\n",
    "print(not((5>4)or(3==5))) # False\n",
    "print((True and True)and(True==False)) # False\n",
    "print((not False)or(not True)) # True\n"
   ]
  },
  {
   "cell_type": "markdown",
   "id": "1c282333-67c3-45ce-b25c-65709c83a2d1",
   "metadata": {},
   "source": [
    "5. What are the six comparison operators?\n",
    "Ans: The Six comparison operators available in python are:\n",
    "== , != , < , > , <= , =>\n"
   ]
  },
  {
   "cell_type": "markdown",
   "id": "7ec3f00f-994d-4fbb-9f27-fcebd625ee1a",
   "metadata": {},
   "source": [
    "6. How do you tell the difference between the equal to and assignment operators?Describe a condition and when you would use one.\n",
    "Ans: == is the equal to operator that compares two values and evaluates to a Boolean, while = is that assignment operator that stores a value in a variable.\n",
    "\n",
    "a=3 # Assigning operator that stores 3 value in a variable a\n",
    "if a==3:#comparing values of a varible value and 3\n",
    "    print(a==3) \n"
   ]
  },
  {
   "cell_type": "markdown",
   "id": "23e95609-468a-4f70-b5bb-1808a1541a3a",
   "metadata": {},
   "source": [
    "7. Identify the three blocks in this code:\n",
    "spam = 0\n",
    "if spam == 10:\n",
    "print('eggs')\n",
    "if spam > 5:\n",
    "print('bacon')\n",
    "else:\n",
    "print('ham')\n",
    "print('spam')\n",
    "print('spam')\n",
    "\n",
    "\n",
    "spam = 0  \n",
    "if spam == 10:  \n",
    "    print('eggs')  # block #1\n",
    "if spam > 5:  \n",
    "    print('bacon')  # block #2\n",
    "else:  \n",
    "    print('ham')  # block #3\n",
    "    print('spam')  \n",
    "    print('spam')\n"
   ]
  },
  {
   "cell_type": "markdown",
   "id": "21dfb790-77a0-4187-ad04-8374f566a432",
   "metadata": {},
   "source": [
    "8. Write code that prints Hello if 1 is stored in spam, prints Howdy if 2 is stored in spam, and prints Greetings! if anything else is stored in spam.\n",
    "def spamCode(spam):\n",
    "    if spam==1:\n",
    "        print('Hello')\n",
    "    elif spam==2:\n",
    "        print('Howdy')\n",
    "    else:\n",
    "        print('Greetings!')\n",
    "        \n",
    "spamCode(1) \n",
    "spamCode(2)\n",
    "spamCode(3)\n"
   ]
  },
  {
   "cell_type": "markdown",
   "id": "0b7626c8-9c31-4787-9ae9-d9fad9b4bccb",
   "metadata": {},
   "source": [
    "9.If your programme is stuck in an endless loop, what keys you’ll press?\n",
    "Ans: Press Ctrl-c to stop a program stuck in an infinite loop\n"
   ]
  },
  {
   "cell_type": "markdown",
   "id": "d09e1d71-5931-4e3c-921c-24817afacc08",
   "metadata": {},
   "source": [
    "10. How can you tell the difference between break and continue?\n",
    "Ans: The break statement will move the execution outside the loop if break condtion is satisfied. Whereas the continue statement will move the execution to the start of the loop.\n"
   ]
  },
  {
   "cell_type": "markdown",
   "id": "03cba57e-a14b-4db6-86a9-f84a99ca432a",
   "metadata": {},
   "source": [
    "11. In a for loop, what is the difference between range(10), range(0, 10), and range(0, 10, 1)?\n",
    "Ans: The Differences are as follows:\n",
    "    1.\tThe range(10) call range from 0 to 9 (but not include 10)\n",
    "    2.\tThe range (0,10) explicitly tells the loop to start at 0\n",
    "    3.\tThe range(0,10,1) explicitly tells the loop to increase the variable by 1 on each iteration\n"
   ]
  },
  {
   "cell_type": "markdown",
   "id": "80216c48-5c31-42fd-9c25-652b7c6a0a01",
   "metadata": {},
   "source": [
    "12. Write a short program that prints the numbers 1 to 10 using a for loop. Then write an equivalent program that prints the numbers 1 to 10 using a while loop.\n",
    "\n",
    "print('Using For Loop')\n",
    "for i in range(1,11):\n",
    "    print(i, end=\" \")\n",
    "print('\\n')\n",
    "print('Using While Loop') \n",
    "i=1\n",
    "while i<=10:\n",
    "    print(i, end=\" \")\n",
    "    i+=1\n"
   ]
  },
  {
   "cell_type": "markdown",
   "id": "e958757b-7094-4004-aba2-7cc52a60b18b",
   "metadata": {},
   "source": [
    "13. If you had a function named bacon() inside a module named spam, how would you call it after importing spam?\n",
    "Ans: This function can be called with spam.bacon()\n"
   ]
  }
 ],
 "metadata": {
  "kernelspec": {
   "display_name": "Python 3 (ipykernel)",
   "language": "python",
   "name": "python3"
  },
  "language_info": {
   "codemirror_mode": {
    "name": "ipython",
    "version": 3
   },
   "file_extension": ".py",
   "mimetype": "text/x-python",
   "name": "python",
   "nbconvert_exporter": "python",
   "pygments_lexer": "ipython3",
   "version": "3.10.6"
  }
 },
 "nbformat": 4,
 "nbformat_minor": 5
}
